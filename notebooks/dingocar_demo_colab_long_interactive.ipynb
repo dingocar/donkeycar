{
 "cells": [
  {
   "cell_type": "markdown",
   "metadata": {
    "colab_type": "text",
    "id": "rdb5SS7msZU_"
   },
   "source": [
    "# Dingocar Demo \n",
    "\n",
    "This Notebook will take allow you to train a Dingocar (_Donkeycar, down-under_). The model will be trained using data uploaded to your Google Drive. The trained model will be saved in your nominated Google Drive Folder .\n",
    "\n",
    "## Requirements\n",
    "\n",
    "A zip file of training data. I recomend a zip file because you'll be transfering the data from drive to the virtual machine this notebook is running on and I found this to be orders of magnitude faster if you zip things up first. If you dont have data but you want to have a play I have a public folder  [here](https://drive.google.com/file/d/1gv5k5vK90QOSgenwT42DMm-jmBdB9yEX/view?usp=sharing). Make a folder in your google drive called `dingocar` and add this folder.\n",
    "\n",
    "Some knowledge of python, and a high level understanding of Machine Learning, not too much, just.\n",
    "\n",
    "If anyone want an introduction to CNNs.\n",
    "\n",
    "- [Convolutional Neural Networks (CNNs) explained](https://www.youtube.com/watch?v=YRhxdVk_sIs) Length = 8m:36s\n",
    "- [A friendly introduction to Convolutional Neural Networks and Image Recognition](https://www.youtube.com/watch?v=2-Ol7ZB0MmU) Length = 32min:07min \n",
    "\n",
    "```\n",
    "\n",
    "Training Time:\n",
    "--------------\n",
    "\n",
    "Input data --> ML Magic --> Prediction\n",
    "\n",
    "                  ^               |\n",
    "                  |    ERROR      |\n",
    "               (Prediction - Label)^2   \n",
    "            \n",
    "\n",
    "Prediction Time:\n",
    "----------------\n",
    "\n",
    "Input data --> ML Magic --> Prediction\n",
    "\n",
    "```\n",
    "\n",
    "---\n",
    "\n",
    "## Setup\n",
    "\n",
    "First we need to:\n",
    "\n",
    "- Clone the git repo\n",
    "- Change to the requied directory\n",
    "- Install the python modules\n",
    "- Make a directory on the Google Colab virtual mahine to copy your training data into"
   ]
  },
  {
   "cell_type": "code",
   "execution_count": null,
   "metadata": {
    "colab": {
     "base_uri": "https://localhost:8080/",
     "height": 1000
    },
    "colab_type": "code",
    "id": "Tfb_cvQysUu1",
    "outputId": "359e3eb7-6bdd-46f5-9278-887e3bbc0d2a"
   },
   "outputs": [],
   "source": [
    "COLAB = False\n",
    "if COLAB:\n",
    "    !git clone https://github.com/tall-josh/dingocar.git\n",
    "    %cd dingocar\n",
    "    !git checkout feat/colab\n",
    "    !python setup.py develop\n",
    "    %mkdir data"
   ]
  },
  {
   "cell_type": "markdown",
   "metadata": {
    "colab_type": "text",
    "id": "10KRW13TsOQb"
   },
   "source": [
    "## Connect to Google Drive\n",
    "\n",
    "This piece of code will mount the your google drive to this Google Colab virtual machine. It will prompt you to follow a link to get a verification code. Once you get it, copy and paste it in the box provided and hit enter.\n",
    "\n",
    "You can nevigate the file system by clicking the \"Files\" tab in the  <-- left side bar. All your google drive files should be in `/content/drive/My\\ Drive`"
   ]
  },
  {
   "cell_type": "code",
   "execution_count": null,
   "metadata": {
    "colab": {
     "base_uri": "https://localhost:8080/",
     "height": 122
    },
    "colab_type": "code",
    "id": "fYyYzWxHlkSl",
    "outputId": "0fc4eba1-e50e-40b5-c8ad-d32a945c2fb8"
   },
   "outputs": [],
   "source": [
    "if COLAB:\n",
    "    from google.colab import drive\n",
    "    drive.mount('/content/drive')"
   ]
  },
  {
   "cell_type": "markdown",
   "metadata": {
    "colab_type": "text",
    "id": "tAyThcrkug_d"
   },
   "source": [
    "Here we copy the contents of  '`your/data/directory`' to the  '`data`' directory we created earlier."
   ]
  },
  {
   "cell_type": "code",
   "execution_count": null,
   "metadata": {
    "colab": {
     "base_uri": "https://localhost:8080/",
     "height": 51
    },
    "colab_type": "code",
    "id": "QpGKvha6l1_m",
    "outputId": "76340dbc-eae4-4648-cdb2-54f600babc62"
   },
   "outputs": [],
   "source": [
    "if COLAB:\n",
    "    # Gotch'a:\n",
    "    # 1. 'My Drive' has a space so you'll need to delimit it with a '\\' or put the \n",
    "    #     path in 'single quotes'. ie:\n",
    "    #     '/content/drive/My Drive' or /content/drive/My\\ Drive\n",
    "\n",
    "    # 2. You can right click on the file system to the right to get the path of the \n",
    "    #    file or folder. It ommits the leading '/' before the 'content'. So don't \n",
    "    #    forget to add it. ie: \n",
    "    #    'content/'  = :-(\n",
    "    #    '/content/' = :-) \n",
    "    !rm -r ./data/*\n",
    "    !rsync -r --info=progress2 '/content/drive/My Drive/dingocar/data/silverpond_tall-josh_2019-07-30_22:10:56/tub.zip' ./data\n",
    "    !cd data && unzip tub.zip > _ && cd ..\n",
    "    !echo \"Number of examples: `ls data/tub/*.jpg | wc -l`\""
   ]
  },
  {
   "cell_type": "markdown",
   "metadata": {
    "colab_type": "text",
    "id": "HTZR5tbJvMBd"
   },
   "source": [
    "## Import some required modules"
   ]
  },
  {
   "cell_type": "code",
   "execution_count": null,
   "metadata": {
    "colab": {},
    "colab_type": "code",
    "id": "P5cY4k5lb4d9"
   },
   "outputs": [],
   "source": [
    "%matplotlib inline\n",
    "import matplotlib\n",
    "from matplotlib.pyplot import imshow\n",
    "import os\n",
    "from PIL import Image\n",
    "from glob import glob\n",
    "import numpy as np\n",
    "import json\n",
    "from tqdm import tqdm"
   ]
  },
  {
   "cell_type": "markdown",
   "metadata": {
    "colab_type": "text",
    "id": "Rab1zh1ovbre"
   },
   "source": [
    "## Load and visualise the data\n",
    "\n",
    "Donkeycar calls the directory(s) where your training data is stored a \"_tub_\". The Dingocar follows the same convention.\n",
    "\n",
    "`Tubs` contain 3 types of files:\n",
    "- images: in the form of `.jpg`\n",
    "- records: in the form `.json`\n",
    "- `meta` which contains some aditional information, also `.json`\n",
    "\n",
    "Below we set the `tub` location and visualize an image and record"
   ]
  },
  {
   "cell_type": "code",
   "execution_count": null,
   "metadata": {
    "colab": {
     "base_uri": "https://localhost:8080/",
     "height": 320
    },
    "colab_type": "code",
    "id": "C5bGnHCAbpwP",
    "outputId": "ce7d92c4-6b32-441d-ea4d-637db5fc0c09"
   },
   "outputs": [],
   "source": [
    "from donkeycar.parts.datastore import Tub\n",
    "from scripts.make_model_name import extract_if_not_extracted\n",
    "\n",
    "dingo_archive = './data/'\n",
    "tub_path      = extract_if_not_extracted(dingo_archive)\n",
    "\n",
    "tub = Tub(tub_path)\n",
    "\n",
    "# Tubs provide a simple way to access the training.\n",
    "# Each entry is a dict record which contains the \n",
    "# a camera image plus the steering and throttle commands\n",
    "# that were recorded when driving the car manually.\n",
    "# The dict keys are as follows.\n",
    "IMAGE_KEY    = \"cam/image_array\"\n",
    "STEERING_KEY = \"user/angle\"\n",
    "THROTTLE_KEY = \"user/throttle\"\n",
    "\n",
    "# Read a single record from the tub\n",
    "idx = 123\n",
    "record = tub.get_record(idx)\n",
    "\n",
    "print(f\"Steering: {record[STEERING_KEY]}\")\n",
    "print(f\"Throttle: {record[THROTTLE_KEY]}\")\n",
    "imshow(record[IMAGE_KEY])"
   ]
  },
  {
   "cell_type": "markdown",
   "metadata": {
    "colab_type": "text",
    "id": "JTgPgXrvwfZO"
   },
   "source": [
    "## Data Augmentation\n",
    "\n",
    "Data augmentation allows us to add a bit more variety to the training data. One very handy augmentation transformation is to randomly mirror the input image and the steering label. This ensurse the data contains the same number or left and right turns so the neural network does not become bias to a specifc direction of turn. \n",
    "\n",
    "There are also some other augmentation transformations you can apply below. These will hopefully make the network a bit more robust to canging lighting and help prevent overfitting."
   ]
  },
  {
   "cell_type": "code",
   "execution_count": null,
   "metadata": {
    "colab": {
     "base_uri": "https://localhost:8080/",
     "height": 337
    },
    "colab_type": "code",
    "id": "-NKOHhsgiawL",
    "outputId": "a6eced8e-16e8-403e-c593-8803b8a87723"
   },
   "outputs": [],
   "source": [
    "# import config\n",
    "# from functools import partial\n",
    "from donkeycar.parts.augment import dingo_aug\n",
    "import donkeycar as dk\n",
    "#cfg = dk.load_config(config_path=\"../mycar/config.py\")\n",
    "\n",
    "class Config:\n",
    "    #DATA AUGMENTATOION\n",
    "    #Control the data augmentation step if --aug is passed to manage.py train\n",
    "    # zeroth element of the tuple is always the probabilty the given augmenation\n",
    "    # operation will be performed. The other elements are variabls specific to the \n",
    "    # operation itself. \n",
    "    def __init__(self):\n",
    "        self.AUG_MIRROR_STEERING       = (0.5,)\n",
    "        self.AUG_SALT_AND_PEPPER       = (0.2,  0.1)       # Turn pixel black or white with X probablilty.\n",
    "        self.AUG_100S_AND_1000S        = (0.2,  0.1)       # Turn pixel random rgb color with X probablilty.\n",
    "        self.AUG_PIXEL_SATURATION      = (0.2,  10, 60)    # Select a number between X and Y and add it all the pixel values. Clip if above 255 or below 0.\n",
    "        self.AUG_SHUFFLE_CHANNELS      = (0.2,)             # Shuffle RGB channels\n",
    "        self.AUG_BLOCKOUT              = (0.2, 0.15, 0.40) # Set a portion of the image to zero. Size of the block is a random fraction of the image size between X and Y\n",
    "        self.AUG_JITTER_STEERING       = (0.2, -0.1, 0.1)  # Pertabate steering command\n",
    "        self.AUG_JITTER_THROTTLE       = (0.2,  0.0, 0.1)  # Pertabate throttle command\n",
    "        self.AUG_SHADOW_IMAGES = None\n",
    "        self.AUG_NORMALIZE     = None\n",
    "\n",
    "cfg = Config()\n",
    "# cfg.AUG_MIRROR_STEERING  = AUG_MIRROR_STEERING\n",
    "# cfg.AUG_SALT_AND_PEPPER  = AUG_SALT_AND_PEPPER\n",
    "# cfg.AUG_100S_AND_1000S   = AUG_100S_AND_1000S\n",
    "# cfg.AUG_PIXEL_SATURATION = AUG_PIXEL_SATURATION\n",
    "# cfg.AUG_SHUFFLE_CHANNELS = AUG_SHUFFLE_CHANNELS\n",
    "# cfg.AUG_BLOCKOUT         = AUG_BLOCKOUT\n",
    "# cfg.AUG_JITTER_STEERING  = AUG_JITTER_STEERING\n",
    "# cfg.AUG_JITTER_THROTTLE  = AUG_JITTER_THROTTLE\n",
    "\n",
    "def record_transform(record_dict):\n",
    "    record   = tub.read_record(record_dict)\n",
    "    \n",
    "    image    = record[IMAGE_KEY]\n",
    "    steering = record[STEERING_KEY]\n",
    "    throttle = record[THROTTLE_KEY]\n",
    "    image, steering, throttle = dingo_aug(cfg, image, steering, throttle)\n",
    "    record[IMAGE_KEY]    = image\n",
    "    record[STEERING_KEY] = steering\n",
    "    record[THROTTLE_KEY] = throttle\n",
    "    return record\n",
    "\n",
    "if tub.df is None:\n",
    "    tub.update_df()\n",
    "\n",
    "X_keys = [IMAGE_KEY]\n",
    "Y_keys = [STEERING_KEY, THROTTLE_KEY]\n",
    "train_gen = tub.get_train_gen(X_keys, Y_keys, batch_size=1, record_transform=record_transform)\n",
    "#valid_gen = tub.get_train_gen(X_keys, Y_keys, record_transform=None)\n",
    "record = next(train_gen)\n",
    "INPUTS           = 0\n",
    "IDX_FOR_IMAGE    = 0\n",
    "OUTPUTS          = 1\n",
    "IDX_FOR_STEERING = 0\n",
    "IDX_FOR_THROTTLE = 1\n",
    "BATCH_IDX        = 0\n",
    "\n",
    "single_image_array = record[INPUTS][IDX_FOR_IMAGE][BATCH_IDX]\n",
    "print(single_image_array.shape)\n",
    "print(f\"Steering: {record[OUTPUTS][IDX_FOR_STEERING][BATCH_IDX]}\")\n",
    "print(f\"Throttle: {record[OUTPUTS][IDX_FOR_THROTTLE][BATCH_IDX]}\")\n",
    "imshow(single_image_array)"
   ]
  },
  {
   "cell_type": "markdown",
   "metadata": {
    "colab_type": "text",
    "id": "GXTPjEyw42Ll"
   },
   "source": [
    "## Define the CNN"
   ]
  },
  {
   "cell_type": "code",
   "execution_count": null,
   "metadata": {
    "colab": {},
    "colab_type": "code",
    "id": "ySzdjLrjvqBZ"
   },
   "outputs": [],
   "source": [
    "from tensorflow.python.keras.layers import Convolution2D\n",
    "from tensorflow.python.keras.layers import Dropout, Flatten, Dense\n",
    "from donkeycar.parts.keras import KerasLinear\n",
    "from tensorflow.python.keras.layers import Input\n",
    "from tensorflow.python.keras.models import Model, load_model\n",
    "from tensorflow.python.keras.callbacks import EarlyStopping, ModelCheckpoint\n",
    "\n",
    "# Tub objects maintain a dictionary of data. You can access the data via 'keys'.\n",
    "# Traditionally x stands for inputs and y stands for outputs.\n",
    "# In our case, for every input image (x) there are 2 output labels,\n",
    "# steering angle and throttle (y).\n",
    "X_KEYS = [IMAGE_KEY]\n",
    "Y_KEYS = [STEERING_KEY, THROTTLE_KEY]\n",
    "\n",
    "# If you'd like you can play with this neural network as much as you like. See\n",
    "# if you can get the network to be more accurate!\n",
    "# The only things you need to watch out for are:\n",
    "#   1. 'img_in' cannot change.\n",
    "#   2. 'angle_out' must always haev 'units=1'\n",
    "#   3. 'throttle_out' must always have 'units=1'\n",
    "def convolutional_neural_network():\n",
    "    img_in = Input(shape=(120, 160, 3), name='img_in')                                                                                                                       \n",
    "    x = img_in                                                                                                                                                               \n",
    "    \n",
    "    # Convolution2D class name is an alias for Conv2D \n",
    "    x = Convolution2D(filters=24, kernel_size=(5, 5), strides=(2, 2), activation='relu')(x)                                                                                  \n",
    "    x = Convolution2D(filters=32, kernel_size=(5, 5), strides=(2, 2), activation='relu')(x)                                                                                  \n",
    "    x = Convolution2D(filters=64, kernel_size=(5, 5), strides=(2, 2), activation='relu')(x)                                                                                  \n",
    "    x = Convolution2D(filters=64, kernel_size=(3, 3), strides=(2, 2), activation='relu')(x)                                                                                  \n",
    "    x = Convolution2D(filters=64, kernel_size=(3, 3), strides=(1, 1), activation='relu')(x)                                                                                  \n",
    "    \n",
    "    x = Flatten(name='flattened')(x)\n",
    "    x = Dense(units=100, activation='linear')(x)                                                                                                                             \n",
    "    x = Dropout(rate=.2)(x)\n",
    "    x = Dense(units=50, activation='linear')(x)                                                                                                                              \n",
    "    x = Dropout(rate=.2)(x)\n",
    "    # categorical output of the angle\n",
    "    angle_out = Dense(units=1, activation='linear', name='angle_out')(x)                                                                                                     \n",
    "    \n",
    "    # continous output of throttle\n",
    "    throttle_out = Dense(units=1, activation='linear', name='throttle_out')(x)                                                                                               \n",
    "    \n",
    "    model = Model(inputs=[img_in], outputs=[angle_out, throttle_out])                                                                                                        \n",
    "    \n",
    "    model.compile(optimizer='adam',\n",
    "                  loss={'angle_out': 'mean_squared_error',\n",
    "                        'throttle_out': 'mean_squared_error'},\n",
    "                  loss_weights={'angle_out': 0.5, 'throttle_out': 0.5})                                                                                                       \n",
    "    \n",
    "    return model\n",
    "\n",
    "# KerasLinear is a class the contains some functions we can use to train\n",
    "# our model and to get predictions out if it later.\n",
    "kl = KerasLinear(model=convolutional_neural_network())"
   ]
  },
  {
   "cell_type": "markdown",
   "metadata": {
    "colab_type": "text",
    "id": "ZlRSHuy4yRaq"
   },
   "source": [
    "## Train the model\n"
   ]
  },
  {
   "cell_type": "code",
   "execution_count": null,
   "metadata": {
    "colab": {
     "base_uri": "https://localhost:8080/",
     "height": 1000
    },
    "colab_type": "code",
    "id": "wfWs2ZsAbpwV",
    "outputId": "fcd43e96-0229-4fe1-de2f-ed9f67e9abe0"
   },
   "outputs": [],
   "source": [
    "#from manage import train\n",
    "#import config\n",
    "\n",
    "# Load 16 image at a time into the model\n",
    "BATCH_SIZE       = 128\n",
    "\n",
    "# 80% of the data is used for training. 20% for validation\n",
    "TRAIN_FRAC = 0.8\n",
    "\n",
    "# Number of time to look over all the training data\n",
    "EPOCHS = 100\n",
    "\n",
    "# Stop training if the validation loss has not improved for the last 'PATIENTS'\n",
    "# Epochs.\n",
    "PATIENCE = 5\n",
    "callbacks = [EarlyStopping(patience=PATIENCE, verbose=True)]\n",
    "\n",
    "# Where to save the trained model\n",
    "new_model_path = \"/content/drive/My Drive/dingocar/my_notebook_model.h5\"\n",
    "callbacks.append(ModelCheckpoint(new_model_path, monitor='val_loss'))\n",
    "\n",
    "# If you want to start from a pre-trained model you can add the path here\n",
    "base_model_path   = None\n",
    "\n",
    "train_steps = int(tub.get_num_records() * 0.8) // BATCH_SIZE\n",
    "valid_steps = int(tub.get_num_records() * (1 - 0.8)) // BATCH_SIZE\n",
    "print(train_steps)\n",
    "\n",
    "# These are generators that will be used to feed data into the model\n",
    "# when training. The generator uses a constant random seed so the train/val\n",
    "# split is the same every time.\n",
    "train_gen, valid_gen = tub.get_train_val_gen(X_keys, Y_keys,\n",
    "                                             batch_size=BATCH_SIZE,\n",
    "                                             record_transform=record_transform,\n",
    "                                             valid_transform=None,\n",
    "                                             train_frac=TRAIN_FRAC)\n",
    "\n",
    "history = kl.model.fit_generator(train_gen,\n",
    "                              steps_per_epoch=train_steps,\n",
    "                              epochs=EPOCHS,\n",
    "                              verbose=True,\n",
    "                              validation_data=valid_gen,\n",
    "                              callbacks=callbacks,\n",
    "                              validation_steps=valid_steps,\n",
    "                              workers=1,\n",
    "                              use_multiprocessing=False)"
   ]
  },
  {
   "cell_type": "code",
   "execution_count": null,
   "metadata": {
    "colab": {},
    "colab_type": "code",
    "id": "dZVVX92PZKJd"
   },
   "outputs": [],
   "source": [
    "!mv new_model_path.h5 '/content/drive/My Drive/dingocar/'"
   ]
  },
  {
   "cell_type": "markdown",
   "metadata": {
    "colab_type": "text",
    "id": "BltoY8j73oi8"
   },
   "source": [
    "# Visualize Predictions"
   ]
  },
  {
   "cell_type": "code",
   "execution_count": null,
   "metadata": {
    "colab": {},
    "colab_type": "code",
    "id": "htFvxNxUh7ta"
   },
   "outputs": [],
   "source": [
    "from dingocar.parts.keras import KerasLinear\n",
    "\n",
    "new_model_path = \"/content/drive/My Drive/dingocar/no_mirror1.hdf5\"\n",
    "trained_model = new_model_path\n",
    "\n",
    "# Load a pre-trained model\n",
    "model = KerasLinear()\n",
    "model.load(trained_model)\n"
   ]
  },
  {
   "cell_type": "code",
   "execution_count": null,
   "metadata": {
    "colab": {},
    "colab_type": "code",
    "id": "CXGqx9qir4Mz"
   },
   "outputs": [],
   "source": [
    "from dingocar.parts.datastore import Tub\n",
    "\n",
    "_, val_gen = tub.get_train_val_gen(X_KEYS, Y_KEYS,\n",
    "                      batch_size=1,\n",
    "                      train_frac=TRAIN_TEST_SPLIT,\n",
    "                      train_record_transform=None,\n",
    "                      val_record_transform=None)"
   ]
  },
  {
   "cell_type": "code",
   "execution_count": null,
   "metadata": {
    "colab": {},
    "colab_type": "code",
    "id": "8VLJwLnw4Fae"
   },
   "outputs": [],
   "source": [
    "preds = []\n",
    "truth = []\n",
    "\n",
    "val_count = int(tub.get_num_records() * (1-TRAIN_TEST_SPLIT))\n",
    "for _ in tqdm(range(val_count)):\n",
    "    sample = next(val_gen)\n",
    "    pred = model.run(sample[0][0][0])\n",
    "    preds.append(pred)\n",
    "    truth.append((sample[1][0][0], sample[1][1][0]))\n",
    "        \n",
    "preds = np.array(preds)\n",
    "truth = np.array(truth)\n",
    "print(preds.shape)\n",
    "print(truth.shape)\n"
   ]
  },
  {
   "cell_type": "code",
   "execution_count": null,
   "metadata": {
    "colab": {},
    "colab_type": "code",
    "id": "vqOdY7MZ4GOR"
   },
   "outputs": [],
   "source": [
    "import matplotlib.pyplot as plt\n",
    "\n",
    "def mean_squared_error(preds, true):\n",
    "  squared_error = (true - preds)**2\n",
    "  return np.mean(squared_error)\n",
    "\n",
    "def xy_scatter(preds, truth):\n",
    "    fig = plt.figure(figsize=(14,14))\n",
    "    steering_p = preds[...,0]\n",
    "    throttle_p = preds[...,1]\n",
    "    steering_t = truth[...,0]\n",
    "    throttle_t = truth[...,1]\n",
    "    \n",
    "    steering_mse = mean_squared_error(steering_p, steering_t)\n",
    "    throttle_mse = mean_squared_error(throttle_p, throttle_t)\n",
    "    plt.plot(steering_p, steering_t, 'b.')\n",
    "    plt.title(f\"MSE: {steering_mse:.3f}\")\n",
    "    plt.xlabel(\"predictions\")\n",
    "    plt.ylabel(\"ground truth\")\n",
    "    plt.gca().set_xlim(-1, 1)\n",
    "    plt.show()\n",
    "#     fig = plt.gcf()\n",
    "#     fig.savefig(path + \"/pred_vs_anno.png\", dpi=100)\n",
    "\n",
    "# Only display the validation set\n",
    "xy_scatter(preds, truth)"
   ]
  },
  {
   "cell_type": "code",
   "execution_count": null,
   "metadata": {
    "colab": {},
    "colab_type": "code",
    "id": "K_fWaIAD4Y-S"
   },
   "outputs": [],
   "source": [
    "preds = []\n",
    "truth = []\n",
    "\n",
    "for idx in tqdm(range(tub.get_num_records())):\n",
    "    sample = tub.get_record(idx)\n",
    "    pred = model.run(sample[IMAGE_KEY])\n",
    "    preds.append(pred)\n",
    "    truth.append((sample[STEERING_KEY], sample[THROTTLE_KEY]))\n",
    "        \n",
    "preds = np.array(preds)\n",
    "truth = np.array(truth)\n",
    "print(preds.shape) \n"
   ]
  },
  {
   "cell_type": "code",
   "execution_count": null,
   "metadata": {
    "colab": {},
    "colab_type": "code",
    "id": "UjnOvTvcEYcW"
   },
   "outputs": [],
   "source": [
    "from ipywidgets import interact, fixed\n",
    "import ipywidgets as widgets"
   ]
  },
  {
   "cell_type": "code",
   "execution_count": null,
   "metadata": {
    "colab": {},
    "colab_type": "code",
    "id": "Wt6QEr6_D9Qd"
   },
   "outputs": [],
   "source": [
    "\n",
    "def plt_image(ax, image, title):\n",
    "  ax.imshow(image)\n",
    "  ax.set_xticks([])\n",
    "  ax.set_yticks([])\n",
    "  ax.set_title(title)\n",
    "\n",
    "def plt_samples(idxs, axs, tub):\n",
    "  records = [tub.get_record(i) for i in idxs]\n",
    "  images = [r[IMAGE_KEY] for r in records]\n",
    "  titles = [f\"frame: {i}\" for i in idxs]\n",
    "  for a,i,t in zip(axs, images, titles):\n",
    "    plt_image(a,i,t)\n",
    "        \n",
    "def time_series(x=300):#, axs=axs, tub=tub):\n",
    "  \n",
    "    fig = plt.figure(figsize=(21,12))\n",
    "    plt.tight_layout()\n",
    "\n",
    "    ax1 = plt.subplot2grid((2, 5), (0, 0), colspan=5)\n",
    "    ax2 = plt.subplot2grid((2, 5), (1, 0))\n",
    "    ax3 = plt.subplot2grid((2, 5), (1, 1))\n",
    "    ax4 = plt.subplot2grid((2, 5), (1, 2))\n",
    "    ax5 = plt.subplot2grid((2, 5), (1, 3))\n",
    "    ax6 = plt.subplot2grid((2, 5), (1, 4))\n",
    "    axs = [ax2, ax3, ax4, ax5, ax6]\n",
    "    steering_p = preds[...,0]\n",
    "    throttle_p = preds[...,1]\n",
    "    steering_t = truth[...,0]\n",
    "    throttle_t = truth[...,1]\n",
    "  \n",
    "    idxs = np.arange(x-2,x+3)\n",
    "    plt_samples(idxs, axs, tub)\n",
    "  \n",
    "    start = x-300\n",
    "    end  = x + 300\n",
    "    ax1.plot(steering_p, label=\"predictions\")\n",
    "    ax1.plot(steering_t, label=\"ground truth\")\n",
    "    #ax1.axvline(x=x, linewidth=4, color='r')\n",
    "    ax1.legend(bbox_to_anchor=(0.91, 0.96), loc=2, borderaxespad=0.)\n",
    "    ax1.set_title(\"Time Series Throttle Predictions vs Ground Truth\")\n",
    "    ax1.set_xlabel(\"time (frames)\")\n",
    "    ax1.set_ylabel(\"steering command\")\n",
    "    ax1.set_xlim(start, end)\n",
    "    \n",
    "#time_series(x=600)\n",
    "interact(time_series, x=(300, len(truth-300)))#, axs=fixed(axs), tub=fixed(tub))"
   ]
  },
  {
   "cell_type": "code",
   "execution_count": null,
   "metadata": {
    "colab": {},
    "colab_type": "code",
    "id": "oM1OQMMDStqQ"
   },
   "outputs": [],
   "source": [
    "import numpy as np\n",
    "import matplotlib.pyplot as plt    \n",
    "testData = np.array([[0,0], [0.1, 0], [0, 0.3], [-0.4, 0], [0, -0.5]])\n",
    "fig, ax = plt.subplots()\n",
    "sctPlot, = ax.plot(testData[:,0], testData[:,1], \"o\", picker = 5)\n",
    "plt.grid(True)\n",
    "plt.axis([-0.5, 0.5, -0.5, 0.5])\n",
    "\n",
    "def on_pick(event):\n",
    "    artist = event.artist\n",
    "    artist.set_color(np.random.random(3))\n",
    "    print(\"click!\")\n",
    "    fig.canvas.draw()\n",
    "\n",
    "fig.canvas.mpl_connect('pick_event', on_pick)"
   ]
  },
  {
   "cell_type": "code",
   "execution_count": null,
   "metadata": {
    "colab": {},
    "colab_type": "code",
    "id": "zZgvXFLBSyhl"
   },
   "outputs": [],
   "source": []
  }
 ],
 "metadata": {
  "accelerator": "GPU",
  "colab": {
   "collapsed_sections": [],
   "name": "dingocar_demo.ipynb",
   "provenance": [],
   "toc_visible": true,
   "version": "0.3.2"
  },
  "kernelspec": {
   "display_name": "dingo",
   "language": "python",
   "name": "dingo"
  },
  "language_info": {
   "codemirror_mode": {
    "name": "ipython",
    "version": 3
   },
   "file_extension": ".py",
   "mimetype": "text/x-python",
   "name": "python",
   "nbconvert_exporter": "python",
   "pygments_lexer": "ipython3",
   "version": "3.7.3"
  }
 },
 "nbformat": 4,
 "nbformat_minor": 1
}
